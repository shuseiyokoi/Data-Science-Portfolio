{
  "cells": [
    {
      "cell_type": "markdown",
      "metadata": {
        "id": "view-in-github",
        "colab_type": "text"
      },
      "source": [
        "<a href=\"https://colab.research.google.com/github/shuseiyokoi/data-science-portfolio/blob/main/SHAP/SHAP.ipynb\" target=\"_parent\"><img src=\"https://colab.research.google.com/assets/colab-badge.svg\" alt=\"Open In Colab\"/></a>"
      ]
    },
    {
      "cell_type": "markdown",
      "metadata": {
        "id": "7zxzJIsn6Wvi"
      },
      "source": [
        "# The theory and implementation of SHAP (SHapley Additive exPlanations)\n",
        "\n",
        "\n",
        "## Theory\n",
        "\n",
        "**SHapley Additive exPlanations (SHAP)** is a method to understand how our AI model came to a certain decision. For example, if your task is to make AI for the loan screening process, you need to make sure why your AI came up to the conclusion because your applicant would desperate to know why they failed. The idea of SHAP is to allocate/calculate credits for each explanatory variable on the prediction. For example, in cooperative game theory, a player is able to choose \"join\" or \"not join\" the game. And if all players are \"join\" the game except player A, the difference between the result of the game within all players and the game without player A is going to be credited to player A. SHAP does a similer process to the model to help us to understand the behavior of the model.  \n",
        "\n",
        "### Additive Feature Attribution Method  \n",
        "SHAP computes credits by calculating the difference of the overall prediction and an individual prediction. For example, a model $\\hat{f}(X)$ with explanatory variable $X = (X_1,...,X_J)$. So explanatory variables for observation $i$ are $x_i=(x_{i,1}...,x_{i,J})$. In SHAP, the credits are break down into the addition form.   \n",
        "\n",
        "\n",
        "$$\n",
        "\\hat{f}(x_i) - \\mathbb{E}\\big[\\hat{f}(X)\\big] =  \\sum_{j = 1}^{J} \\phi_{i,j}\n",
        "$$\n",
        "\n",
        "Breaking down into summation from called **Additive Feature Attribution Method** and SHAP is one of the Additive Feature Attribution Methods. Often, by setting $\\phi_0 =  \\mathbb{E}\\big[\\hat{f}(X)\\big]$ SHAP is notated as  \n",
        "\n",
        "$$\n",
        "\\hat{f}(x_i) = \\phi_{0} - \\sum_{j = 1}^{J} \\phi_{i,j}\n",
        "$$\n",
        "\n",
        "For example, let's say our goal is to predict annual salary from education, job title, job position, and English skill. The prediction formula would be  \n",
        "\n",
        "$$\n",
        "\\hat{f}(x_i) = \\phi_0 + \\phi_i, education + \\phi_i title + \\phi_i position + \\phi_i english\n",
        "$$\n",
        "\n",
        "\n",
        "\n",
        "In this particular observation, we get someone who got a Master's degree, works as Data Scientist, is a Manager, and does not speak English. And the predicted salary is 10 million yen.    \n",
        "\n",
        "\n",
        "According to our AI model, if he practices his English, he has more chance to be predicted a higher salary.  \n",
        "\n",
        "\n",
        "### Shapley Value  \n",
        "*The **Shapley value** is a solution concept used in game theory that involves fairly distributing both gains and costs to several actors working in a coalition. Game theory is when two or more players or factors are involved in a strategy to achieve a desired outcome or payoff.* -<a href = \"https://www.investopedia.com/terms/s/shapley-value.asp#:~:text=The%20Shapley%20value%20is%20a,a%20desired%20outcome%20or%20payoff.\">Will Kenton(investopedia)</a>.   \n",
        "\n",
        "Let's say there are three players A, B, and C in some cooperative game, and we want to somehow calculate the contributions of each player. Here is a table of final scores with a list of players in the game.  \n",
        "\n",
        "\n",
        "|Player|Score|  \n",
        "|---|---|  \n",
        "|A|6|  \n",
        "|B|4|  \n",
        "|C|2|  \n",
        "|A,B|20|  \n",
        "|A,C|15|  \n",
        "|B,C|10|  \n",
        "|A,B,C|24|  \n",
        "\n",
        "To calculate the contribution, we use **marginal contribution**. Marginal contribution calculates one's effort by getting the average of the difference between the game scores with and without a certain player. For example, if you want to calculate marginal contribution for player A,\n",
        "\n",
        "Game 1\n",
        "Player A plays the game aloe, A gets a score of 6.\n",
        "None -> A  \n",
        "\n",
        "$$\n",
        "Contribution_A = 6 - 0 = 6  \n",
        "$$\n",
        "\n",
        "Game 2  \n",
        "Player B plays the game aloe(4), but A gets into the game. A and B gets score of 20.\n",
        "B -> A,B  \n",
        "$$\n",
        "Contribution_A = 20 - 4 = 16\n",
        "$$  \n",
        "\n",
        "Game 3  \n",
        "Player C plays the game aloe(2), but A gets into the game. A and C gets score of 15.\n",
        "C -> A,C  \n",
        "$$\n",
        "Contribution_A = 15 - 2 = 13\n",
        "$$  \n",
        "\n",
        "Game 4  \n",
        "Player B and C plays the game (10), A gets into the game. A,B, and C gets score of 24.\n",
        "B,C -> A,B,C   \n",
        "\n",
        "$$\n",
        "Contribution_A = 24 - 10 = 14\n",
        "$$  \n",
        "\n",
        "Pay attention to the fact that the contribution of A changes who's in the game already. Therefore, we need to average each contribution.    \n",
        "\n",
        "Here is a table of marginal contributions with all possible participation orders.   \n",
        "\n",
        "|Participation Order|Contribution A|Contribution B|Contribution C|  \n",
        "|---|----|---|---|  \n",
        "|A-B-C|6|14|4|  \n",
        "|A-C-B|6|9|9|   \n",
        "|B-A-C|16|4|4|  \n",
        "|B-C-A|14|4|6|  \n",
        "|C-A-B|13|9|2|  \n",
        "|C-B-A|14|8|2|  \n",
        "\n",
        "By taking the average we can calculate the **Shapley Value**  \n",
        "\n",
        "$$\n",
        "\\phi_{A} = \\dfrac{6+6+16+14+13+14}{6}=11.5    \n",
        "$$\n",
        "\n",
        "#### Formula for Shapley Value\n",
        "\n",
        "$$\n",
        "\\phi_{j} = \\dfrac{1}{|\\mathbf{J}|!} \\sum_{\\mathbf{S}\\subseteq\\mathbf{J}-j} (|\\mathbf{S}|!(|\\mathbf{J}|-|\\mathbf{S}|-1)!) (v(\\mathbf{S}\\cup\\{j\\})-v(\\mathbf{S}))\n",
        "$$\n",
        "\n",
        "$\\mathbf{J} = \\{1,...,J\\}$ is a set of players.  \n",
        "- In the case above, $\\mathbf{J} = \\{A,B,C\\}$  \n",
        "\n",
        "$|\\mathbf{J}|$ is the number of components in the set $\\mathbf{J}$.    \n",
        "- In the case above, $|\\mathbf{J}| =3$  \n",
        "\n",
        "$\\mathbf{S}$ is a set of sets that deducts player $j$ from $\\mathbf{J}$.  \n",
        "- Thinking about shapely value of A, $\\mathbf{S}$ is $\\emptyset,\\{B\\},\\{C\\},\\{B,C\\}$   \n",
        "\n",
        "$|\\mathbf{S}|$ is number of components in the set $\\mathbf{S}$.  \n",
        "- In the case $\\emptyset,\\{B\\},\\{C\\},\\{B,C\\}$,  $|\\mathbf{S}|$ would be $0,1,1,2$  \n",
        "\n",
        "$v$ is a game score.  \n",
        "- If A and B are in the game, the score would be notated as $v(\\{A,B\\})$  \n",
        "\n",
        "$v(\\mathbf{S}\\cup\\{j\\}) - v(\\mathbf{S})$ is difference of the scores when player $j$ is in and out of the game.    \n",
        "\n",
        "\n"
      ]
    },
    {
      "cell_type": "markdown",
      "metadata": {
        "id": "EoUAQ1X26Wvk"
      },
      "source": [
        "## Implimentation\n",
        "\n",
        "### Get Dataset  "
      ]
    },
    {
      "cell_type": "code",
      "execution_count": 1,
      "metadata": {
        "id": "WxmhBmDk6Wvk"
      },
      "outputs": [],
      "source": [
        "## Import Libraries\n",
        "# !pip install scikit-learn==1.0.2\n",
        "import pandas as pd\n",
        "import numpy as np\n",
        "import xgboost as xgb\n",
        "import random\n",
        "import dalex as dx\n",
        "import matplotlib.pyplot as plt\n",
        "from sklearn.model_selection import train_test_split\n",
        "from sklearn.metrics import mean_squared_error, r2_score"
      ]
    },
    {
      "cell_type": "markdown",
      "metadata": {
        "id": "bZ4sYWfa6Wvk"
      },
      "source": [
        "### Obserview of the Dataset  \n",
        "\n",
        "*medv* is our response variable, We predict this.  \n",
        "\n"
      ]
    },
    {
      "cell_type": "code",
      "execution_count": 2,
      "metadata": {
        "colab": {
          "base_uri": "https://localhost:8080/",
          "height": 490
        },
        "id": "trr7iP7R6Wvk",
        "outputId": "b6842969-7be0-4244-a359-8e4426af20f0"
      },
      "outputs": [
        {
          "output_type": "stream",
          "name": "stdout",
          "text": [
            "Dataset Overview:\n"
          ]
        },
        {
          "output_type": "display_data",
          "data": {
            "text/plain": [
              "<Figure size 640x480 with 1 Axes>"
            ],
            "image/png": "[encoded data removed]"
          },
          "metadata": {}
        }
      ],
      "source": [
        "### Objective\n",
        "# Explore SHAP values for an XGBoost model predicting 'medv' (housing price).\n",
        "\n",
        "# Load Dataset\n",
        "from sklearn.datasets import fetch_california_housing\n",
        "\n",
        "data = fetch_california_housing()\n",
        "df = pd.DataFrame(data.data, columns=data.feature_names)\n",
        "df['medv'] = data.target  # medv as target variable\n",
        "\n",
        "# Show first few rows\n",
        "print(\"Dataset Overview:\")\n",
        "df.head()\n",
        "\n",
        "# Plot the histogram of the target variable (medv)\n",
        "plt.hist(df['medv'], bins=20, color='skyblue')\n",
        "plt.title('Histogram of medv (House Price)')\n",
        "plt.xlabel('medv ($ in 1,000)')\n",
        "plt.show()"
      ]
    },
    {
      "cell_type": "markdown",
      "metadata": {
        "id": "9vRBb1c86Wvl"
      },
      "source": [
        "### Build a Model and Predict medv\n",
        "\n",
        "We won't cover building a model in this article. I used XGBoost model."
      ]
    },
    {
      "cell_type": "code",
      "execution_count": 3,
      "metadata": {
        "id": "PlzmQRt06Wvl"
      },
      "outputs": [],
      "source": [
        "### Split Data into Training and Testing Sets\n",
        "X = df.drop('medv', axis=1)\n",
        "y = df['medv']\n",
        "X_train, X_test, y_train, y_test = train_test_split(X, y, test_size=0.2, random_state=42)\n"
      ]
    },
    {
      "cell_type": "code",
      "execution_count": 4,
      "metadata": {
        "colab": {
          "base_uri": "https://localhost:8080/"
        },
        "id": "VZ4pH2c_6Wvl",
        "outputId": "90b56622-ea3c-4ad0-e49e-a6f181476708"
      },
      "outputs": [
        {
          "output_type": "execute_result",
          "data": {
            "text/plain": [
              "XGBRegressor(base_score=None, booster=None, callbacks=None,\n",
              "             colsample_bylevel=None, colsample_bynode=None,\n",
              "             colsample_bytree=None, device=None, early_stopping_rounds=None,\n",
              "             enable_categorical=False, eval_metric=None, feature_types=None,\n",
              "             gamma=None, grow_policy=None, importance_type=None,\n",
              "             interaction_constraints=None, learning_rate=None, max_bin=None,\n",
              "             max_cat_threshold=None, max_cat_to_onehot=None,\n",
              "             max_delta_step=None, max_depth=None, max_leaves=None,\n",
              "             min_child_weight=None, missing=nan, monotone_constraints=None,\n",
              "             multi_strategy=None, n_estimators=200, n_jobs=None,\n",
              "             num_parallel_tree=None, random_state=42, ...)"
            ]
          },
          "metadata": {},
          "execution_count": 4
        }
      ],
      "source": [
        "### Build and Train XGBoost Model\n",
        "xgb_model = xgb.XGBRegressor(objective='reg:squarederror', n_estimators=200, random_state=42)\n",
        "xgb_model.fit(X_train, y_train, eval_set=[(X_test, y_test)], verbose=False)"
      ]
    },
    {
      "cell_type": "code",
      "execution_count": 5,
      "metadata": {
        "colab": {
          "base_uri": "https://localhost:8080/"
        },
        "id": "oP8d9LHP6Wvl",
        "outputId": "5841fab5-6b4b-4634-e390-aca732902f43"
      },
      "outputs": [
        {
          "output_type": "stream",
          "name": "stdout",
          "text": [
            "Test RMSE: 0.47\n",
            "Test R^2: 0.83\n"
          ]
        }
      ],
      "source": [
        "# Predict on test data\n",
        "y_pred = xgb_model.predict(X_test)\n",
        "\n",
        "# Calculate RMSE and R^2\n",
        "test_rmse = np.sqrt(mean_squared_error(y_test, y_pred))\n",
        "test_r2 = r2_score(y_test, y_pred)\n",
        "print(f\"Test RMSE: {test_rmse:.2f}\")\n",
        "print(f\"Test R^2: {test_r2:.2f}\")"
      ]
    },
    {
      "cell_type": "markdown",
      "metadata": {
        "id": "iFY1wcvw6Wvl"
      },
      "source": [
        "### Interpre SHAP  \n",
        "Use the function *Explainer* to create an explainer object that helps us to interpret the model."
      ]
    },
    {
      "cell_type": "code",
      "execution_count": 6,
      "metadata": {
        "colab": {
          "base_uri": "https://localhost:8080/"
        },
        "id": "HvWzJvCg6Wvl",
        "outputId": "317fc9db-cf70-4ff5-87c3-2d055a937627"
      },
      "outputs": [
        {
          "output_type": "stream",
          "name": "stdout",
          "text": [
            "Preparation of a new explainer is initiated\n",
            "\n",
            "  -> data              : 4128 rows 8 cols\n",
            "  -> target variable   : Parameter 'y' was a pandas.Series. Converted to a numpy.ndarray.\n",
            "  -> target variable   : 4128 values\n",
            "  -> model_class       : xgboost.sklearn.XGBRegressor (default)\n",
            "  -> label             : Not specified, model's class short name will be used. (default)\n",
            "  -> predict function  : <function yhat_default at 0x7fb04ba01fc0> will be used (default)\n",
            "  -> predict function  : Accepts pandas.DataFrame and numpy.ndarray.\n",
            "  -> predicted values  : min = 0.186, mean = 2.06, max = 5.56\n",
            "  -> model type        : regression will be used (default)\n",
            "  -> residual function : difference between y and yhat (default)\n",
            "  -> residuals         : min = -3.21, mean = -0.0065, max = 3.16\n",
            "  -> model_info        : package xgboost\n",
            "\n",
            "A new explainer has been created!\n"
          ]
        }
      ],
      "source": [
        "### Explain Model Predictions Using SHAP\n",
        "# Set seed\n",
        "random.seed(1)\n",
        "# Create SHAP Explainer\n",
        "explainer = dx.Explainer(xgb_model, X_test, y_test)\n",
        "shap_values = explainer.predict_parts(X_test.iloc[1], type='shap', B=20, random_state=42)"
      ]
    },
    {
      "cell_type": "markdown",
      "metadata": {
        "id": "ZyNMe8Ka6Wvm"
      },
      "source": [
        "## Use *predict_parts* function to get SHAP plot.  \n",
        "\n",
        "- *new_observation*: Set a observation which you want to calculate SHAP (In this case 1)  \n",
        "- *type*: Set the method  \n",
        "- *B*: Number of trials of picking ways of \"Participation Order\"   \n",
        "\n",
        "In this plot, we are extracting 1st observation of our test set. Whose explanatory variables and predictor variable are below.  "
      ]
    },
    {
      "cell_type": "code",
      "execution_count": 7,
      "metadata": {
        "colab": {
          "base_uri": "https://localhost:8080/",
          "height": 335
        },
        "id": "larOQYKZ6Wvm",
        "outputId": "1d0adf15-31fb-4626-daa3-0dad33b53139"
      },
      "outputs": [
        {
          "output_type": "execute_result",
          "data": {
            "text/plain": [
              "MedInc           2.531300\n",
              "HouseAge        30.000000\n",
              "AveRooms         5.039384\n",
              "AveBedrms        1.193493\n",
              "Population    1565.000000\n",
              "AveOccup         2.679795\n",
              "Latitude        35.140000\n",
              "Longitude     -119.460000\n",
              "Name: 3024, dtype: float64"
            ],
            "text/html": [
              "<div>\n",
              "<style scoped>\n",
              "    .dataframe tbody tr th:only-of-type {\n",
              "        vertical-align: middle;\n",
              "    }\n",
              "\n",
              "    .dataframe tbody tr th {\n",
              "        vertical-align: top;\n",
              "    }\n",
              "\n",
              "    .dataframe thead th {\n",
              "        text-align: right;\n",
              "    }\n",
              "</style>\n",
              "<table border=\"1\" class=\"dataframe\">\n",
              "  <thead>\n",
              "    <tr style=\"text-align: right;\">\n",
              "      <th></th>\n",
              "      <th>3024</th>\n",
              "    </tr>\n",
              "  </thead>\n",
              "  <tbody>\n",
              "    <tr>\n",
              "      <th>MedInc</th>\n",
              "      <td>2.531300</td>\n",
              "    </tr>\n",
              "    <tr>\n",
              "      <th>HouseAge</th>\n",
              "      <td>30.000000</td>\n",
              "    </tr>\n",
              "    <tr>\n",
              "      <th>AveRooms</th>\n",
              "      <td>5.039384</td>\n",
              "    </tr>\n",
              "    <tr>\n",
              "      <th>AveBedrms</th>\n",
              "      <td>1.193493</td>\n",
              "    </tr>\n",
              "    <tr>\n",
              "      <th>Population</th>\n",
              "      <td>1565.000000</td>\n",
              "    </tr>\n",
              "    <tr>\n",
              "      <th>AveOccup</th>\n",
              "      <td>2.679795</td>\n",
              "    </tr>\n",
              "    <tr>\n",
              "      <th>Latitude</th>\n",
              "      <td>35.140000</td>\n",
              "    </tr>\n",
              "    <tr>\n",
              "      <th>Longitude</th>\n",
              "      <td>-119.460000</td>\n",
              "    </tr>\n",
              "  </tbody>\n",
              "</table>\n",
              "</div><br><label><b>dtype:</b> float64</label>"
            ]
          },
          "metadata": {},
          "execution_count": 7
        }
      ],
      "source": [
        "X_test.iloc[1]"
      ]
    },
    {
      "cell_type": "markdown",
      "metadata": {
        "id": "Puze2aZE6Wvm"
      },
      "source": [
        "\n",
        "By looking at the plot, we can tell that *lstat* has the highest contribution to the prediction. To interpret, *lstat* contributes *medv* to be high for the positive direction, and next contributor is *rm*."
      ]
    },
    {
      "cell_type": "code",
      "execution_count": 8,
      "metadata": {
        "colab": {
          "base_uri": "https://localhost:8080/",
          "height": 330
        },
        "id": "bX9qRxMq6Wvm",
        "outputId": "45318f2b-eedc-4db9-a9e7-292a9ba56826"
      },
      "outputs": [
        {
          "output_type": "display_data",
          "data": {
            "text/html": [
              "<html>\n",
              "<head><meta charset=\"utf-8\" /></head>\n",
              "<body>\n",
              "    <div>            <script src=\"https://cdnjs.cloudflare.com/ajax/libs/mathjax/2.7.5/MathJax.js?config=TeX-AMS-MML_SVG\"></script><script type=\"text/javascript\">if (window.MathJax && window.MathJax.Hub && window.MathJax.Hub.Config) {window.MathJax.Hub.Config({SVG: {font: \"STIX-Web\"}});}</script>                <script type=\"text/javascript\">window.PlotlyConfig = {MathJaxConfig: 'local'};</script>\n",
              "        <script charset=\"utf-8\" src=\"https://cdn.plot.ly/plotly-2.35.2.min.js\"></script>                <div id=\"691dc1e8-fefb-451c-a4a4-2a448ef4b52f\" class=\"plotly-graph-div\" style=\"height:313.0px; width:100%;\"></div>            <script type=\"text/javascript\">                                    window.PLOTLYENV=window.PLOTLYENV || {};                                    if (document.getElementById(\"691dc1e8-fefb-451c-a4a4-2a448ef4b52f\")) {                    Plotly.newPlot(                        \"691dc1e8-fefb-451c-a4a4-2a448ef4b52f\",                        [{\"base\":2.0614994,\"hoverinfo\":\"text\",\"hoverlabel\":{\"bgcolor\":\"rgba(0,0,0,0.8)\"},\"hovertext\":[\"Average response: 2.061\\u003cbr\\u003ePrediction: 0.766\\u003cbr\\u003eLatitude = 35.14\\u003cbr\\u003edecreases average response \\u003cbr\\u003eby 1.018\",\"Average response: 2.061\\u003cbr\\u003ePrediction: 0.766\\u003cbr\\u003eMedInc = 2.531\\u003cbr\\u003edecreases average response \\u003cbr\\u003eby 0.368\",\"Average response: 2.061\\u003cbr\\u003ePrediction: 0.766\\u003cbr\\u003eLongitude = -119.5\\u003cbr\\u003eincreases average response \\u003cbr\\u003eby 0.204\",\"Average response: 2.061\\u003cbr\\u003ePrediction: 0.766\\u003cbr\\u003eAveRooms = 5.039\\u003cbr\\u003edecreases average response \\u003cbr\\u003eby 0.108\",\"Average response: 2.061\\u003cbr\\u003ePrediction: 0.766\\u003cbr\\u003eAveOccup = 2.68\\u003cbr\\u003edecreases average response \\u003cbr\\u003eby 0.048\",\"Average response: 2.061\\u003cbr\\u003ePrediction: 0.766\\u003cbr\\u003ePopulation = 1565.0\\u003cbr\\u003eincreases average response \\u003cbr\\u003eby 0.03\",\"Average response: 2.061\\u003cbr\\u003ePrediction: 0.766\\u003cbr\\u003eHouseAge = 30.0\\u003cbr\\u003eincreases average response \\u003cbr\\u003eby 0.019\",\"Average response: 2.061\\u003cbr\\u003ePrediction: 0.766\\u003cbr\\u003eAveBedrms = 1.193\\u003cbr\\u003edecreases average response \\u003cbr\\u003eby 0.006\"],\"marker\":{\"color\":[\"#f05a71\",\"#f05a71\",\"#8bdcbe\",\"#f05a71\",\"#f05a71\",\"#8bdcbe\",\"#8bdcbe\",\"#f05a71\"]},\"orientation\":\"h\",\"showlegend\":false,\"text\":[\"-1.018\",\"-0.368\",\"+0.204\",\"-0.108\",\"-0.048\",\"+0.03\",\"+0.019\",\"-0.006\"],\"textposition\":\"outside\",\"x\":[-1.018,-0.368,0.204,-0.108,-0.048,0.03,0.019,-0.006],\"y\":[\"Latitude = 35.14\",\"MedInc = 2.531\",\"Longitude = -119.5\",\"AveRooms = 5.039\",\"AveOccup = 2.68\",\"Population = 1565.0\",\"HouseAge = 30.0\",\"AveBedrms = 1.193\"],\"type\":\"bar\",\"xaxis\":\"x\",\"yaxis\":\"y\"}],                        {\"template\":{\"data\":{\"scatter\":[{\"type\":\"scatter\"}]}},\"xaxis\":{\"anchor\":\"y\",\"domain\":[0.0,1.0],\"type\":\"linear\",\"gridwidth\":2,\"zeroline\":false,\"automargin\":true,\"ticks\":\"outside\",\"tickcolor\":\"white\",\"ticklen\":3,\"fixedrange\":true,\"range\":[0.8601993572235107,2.448799357223511]},\"yaxis\":{\"anchor\":\"x\",\"domain\":[0.0,1.0],\"type\":\"category\",\"autorange\":\"reversed\",\"gridwidth\":2,\"automargin\":true,\"ticks\":\"outside\",\"tickcolor\":\"white\",\"ticklen\":10,\"fixedrange\":true},\"annotations\":[{\"font\":{\"size\":16},\"showarrow\":false,\"text\":\"XGBRegressor\",\"x\":0.5,\"xanchor\":\"center\",\"xref\":\"paper\",\"y\":1.0,\"yanchor\":\"bottom\",\"yref\":\"paper\"},{\"font\":{\"size\":16},\"showarrow\":false,\"text\":\"contribution\",\"x\":0.5,\"xanchor\":\"center\",\"xref\":\"paper\",\"y\":0,\"yanchor\":\"top\",\"yref\":\"paper\",\"yshift\":-30}],\"shapes\":[{\"line\":{\"color\":\"#371ea3\",\"dash\":\"dot\",\"width\":1.5},\"type\":\"line\",\"x0\":2.0614994,\"x1\":2.0614994,\"xref\":\"x\",\"y0\":-1,\"y1\":8,\"yref\":\"y\"}],\"title\":{\"text\":\"Shapley Values\",\"x\":0.15},\"font\":{\"color\":\"#371ea3\"},\"margin\":{\"t\":78,\"b\":71,\"r\":30},\"height\":313.0},                        {\"displaylogo\": false, \"staticPlot\": false, \"toImageButtonOptions\": {\"height\": null, \"width\": null}, \"modeBarButtonsToRemove\": [\"sendDataToCloud\", \"lasso2d\", \"autoScale2d\", \"select2d\", \"zoom2d\", \"pan2d\", \"zoomIn2d\", \"zoomOut2d\", \"resetScale2d\", \"toggleSpikelines\", \"hoverCompareCartesian\", \"hoverClosestCartesian\"], \"responsive\": true}                    ).then(function(){\n",
              "                            \n",
              "var gd = document.getElementById('691dc1e8-fefb-451c-a4a4-2a448ef4b52f');\n",
              "var x = new MutationObserver(function (mutations, observer) {{\n",
              "        var display = window.getComputedStyle(gd).display;\n",
              "        if (!display || display === 'none') {{\n",
              "            console.log([gd, 'removed!']);\n",
              "            Plotly.purge(gd);\n",
              "            observer.disconnect();\n",
              "        }}\n",
              "}});\n",
              "\n",
              "// Listen for the removal of the full notebook cells\n",
              "var notebookContainer = gd.closest('#notebook-container');\n",
              "if (notebookContainer) {{\n",
              "    x.observe(notebookContainer, {childList: true});\n",
              "}}\n",
              "\n",
              "// Listen for the clearing of the current output cell\n",
              "var outputEl = gd.closest('.output');\n",
              "if (outputEl) {{\n",
              "    x.observe(outputEl, {childList: true});\n",
              "}}\n",
              "\n",
              "                        })                };                            </script>        </div>\n",
              "</body>\n",
              "</html>"
            ]
          },
          "metadata": {}
        }
      ],
      "source": [
        "shap_values.plot()"
      ]
    },
    {
      "cell_type": "markdown",
      "metadata": {
        "id": "lNOrQRm66Wvm"
      },
      "source": [
        "### Gloval Feature Importance  \n",
        "\n",
        "So far, we have discussed instance-level exploration. Now, let’s briefly touch on dataset-level exploration. While we won’t go into detail on this page, the core idea involves global-level explanatory variable analysis. Some methods, such as running SHAP for the entire dataset, can achieve this, but they are computationally expensive and time-consuming.\n",
        "\n",
        "The key concept is to assess how a model’s performance changes when the influence of a specific explanatory variable, or a group of variables, is removed. This removal is achieved through perturbations, such as resampling from the empirical distribution or permuting the variable’s values."
      ]
    },
    {
      "cell_type": "markdown",
      "metadata": {
        "id": "ujgO7mvP6Wvm"
      },
      "source": []
    },
    {
      "cell_type": "code",
      "execution_count": 9,
      "metadata": {
        "colab": {
          "base_uri": "https://localhost:8080/"
        },
        "id": "S77X3nXQ6Wvm",
        "outputId": "0270a655-8324-4181-9ac0-b5feeb17acd7"
      },
      "outputs": [
        {
          "output_type": "stream",
          "name": "stdout",
          "text": [
            "Preparation of a new explainer is initiated\n",
            "\n",
            "  -> data              : 4128 rows 8 cols\n",
            "  -> target variable   : Parameter 'y' was a pandas.Series. Converted to a numpy.ndarray.\n",
            "  -> target variable   : 4128 values\n",
            "  -> model_class       : xgboost.sklearn.XGBRegressor (default)\n",
            "  -> label             : Not specified, model's class short name will be used. (default)\n",
            "  -> predict function  : <function yhat_default at 0x7fb04ba01fc0> will be used (default)\n",
            "  -> predict function  : Accepts pandas.DataFrame and numpy.ndarray.\n",
            "  -> predicted values  : min = 0.186, mean = 2.06, max = 5.56\n",
            "  -> model type        : regression will be used (default)\n",
            "  -> residual function : difference between y and yhat (default)\n",
            "  -> residuals         : min = -3.21, mean = -0.0065, max = 3.16\n",
            "  -> model_info        : package xgboost\n",
            "\n",
            "A new explainer has been created!\n"
          ]
        }
      ],
      "source": [
        "### Explain Model Predictions Using SHAP\n",
        "# Create SHAP Explainer\n",
        "explainer = dx.Explainer(xgb_model, X_test, y_test)\n",
        "exp_xg = explainer.model_parts(random_state=42)"
      ]
    },
    {
      "cell_type": "code",
      "execution_count": 10,
      "metadata": {
        "colab": {
          "base_uri": "https://localhost:8080/",
          "height": 360
        },
        "id": "DztBItTf6Wvm",
        "outputId": "253a7dd7-27f5-4136-c900-591ac42ab8df"
      },
      "outputs": [
        {
          "output_type": "display_data",
          "data": {
            "text/html": [
              "<html>\n",
              "<head><meta charset=\"utf-8\" /></head>\n",
              "<body>\n",
              "    <div>            <script src=\"https://cdnjs.cloudflare.com/ajax/libs/mathjax/2.7.5/MathJax.js?config=TeX-AMS-MML_SVG\"></script><script type=\"text/javascript\">if (window.MathJax && window.MathJax.Hub && window.MathJax.Hub.Config) {window.MathJax.Hub.Config({SVG: {font: \"STIX-Web\"}});}</script>                <script type=\"text/javascript\">window.PlotlyConfig = {MathJaxConfig: 'local'};</script>\n",
              "        <script charset=\"utf-8\" src=\"https://cdn.plot.ly/plotly-2.35.2.min.js\"></script>                <div id=\"c7f8a23c-3ce7-404b-a666-7acc2311caf9\" class=\"plotly-graph-div\" style=\"height:343.0px; width:100%;\"></div>            <script type=\"text/javascript\">                                    window.PLOTLYENV=window.PLOTLYENV || {};                                    if (document.getElementById(\"c7f8a23c-3ce7-404b-a666-7acc2311caf9\")) {                    Plotly.newPlot(                        \"c7f8a23c-3ce7-404b-a666-7acc2311caf9\",                        [{\"base\":0.4796092382531768,\"hoverinfo\":\"text\",\"hoverlabel\":{\"bgcolor\":\"rgba(0,0,0,0.8)\"},\"hovertext\":[\"Model: XGBRegressor loss after\\u003cbr\\u003evariable: Latitude is permuted: 1.509\\u003cbr\\u003eDrop-out loss change: +1.03\",\"Model: XGBRegressor loss after\\u003cbr\\u003evariable: Longitude is permuted: 1.453\\u003cbr\\u003eDrop-out loss change: +0.973\",\"Model: XGBRegressor loss after\\u003cbr\\u003evariable: MedInc is permuted: 0.818\\u003cbr\\u003eDrop-out loss change: +0.339\",\"Model: XGBRegressor loss after\\u003cbr\\u003evariable: AveOccup is permuted: 0.643\\u003cbr\\u003eDrop-out loss change: +0.163\",\"Model: XGBRegressor loss after\\u003cbr\\u003evariable: AveRooms is permuted: 0.621\\u003cbr\\u003eDrop-out loss change: +0.141\",\"Model: XGBRegressor loss after\\u003cbr\\u003evariable: HouseAge is permuted: 0.535\\u003cbr\\u003eDrop-out loss change: +0.055\",\"Model: XGBRegressor loss after\\u003cbr\\u003evariable: AveBedrms is permuted: 0.49\\u003cbr\\u003eDrop-out loss change: +0.011\",\"Model: XGBRegressor loss after\\u003cbr\\u003evariable: Population is permuted: 0.486\\u003cbr\\u003eDrop-out loss change: +0.007\"],\"marker\":{\"color\":\"#46bac2\"},\"orientation\":\"h\",\"showlegend\":false,\"text\":[\"+1.03\",\"+0.973\",\"+0.339\",\"+0.163\",\"+0.141\",\"+0.055\",\"+0.011\",\"+0.007\"],\"textposition\":\"outside\",\"x\":[1.0296512143093697,0.9732170354169766,0.33869373304920436,0.16326525521758295,0.14094088289277418,0.055415264753194804,0.010793379736624642,0.006814151522221756],\"y\":[\"Latitude\",\"Longitude\",\"MedInc\",\"AveOccup\",\"AveRooms\",\"HouseAge\",\"AveBedrms\",\"Population\"],\"type\":\"bar\",\"xaxis\":\"x\",\"yaxis\":\"y\"}],                        {\"template\":{\"data\":{\"scatter\":[{\"type\":\"scatter\"}]}},\"xaxis\":{\"anchor\":\"y\",\"domain\":[0.0,1.0],\"type\":\"linear\",\"gridwidth\":2,\"zeroline\":false,\"automargin\":true,\"ticks\":\"outside\",\"tickcolor\":\"white\",\"ticklen\":3,\"fixedrange\":true,\"range\":[0.32516155610677133,1.6637081347089517]},\"yaxis\":{\"anchor\":\"x\",\"domain\":[0.0,1.0],\"type\":\"category\",\"autorange\":\"reversed\",\"gridwidth\":2,\"automargin\":true,\"ticks\":\"outside\",\"tickcolor\":\"white\",\"ticklen\":10,\"fixedrange\":true},\"annotations\":[{\"font\":{\"size\":16},\"showarrow\":false,\"text\":\"XGBRegressor\",\"x\":0.5,\"xanchor\":\"center\",\"xref\":\"paper\",\"y\":1.0,\"yanchor\":\"bottom\",\"yref\":\"paper\"},{\"font\":{\"size\":16},\"showarrow\":false,\"text\":\"drop-out loss\",\"x\":0.5,\"xanchor\":\"center\",\"xref\":\"paper\",\"y\":0,\"yanchor\":\"top\",\"yref\":\"paper\",\"yshift\":-30}],\"shapes\":[{\"line\":{\"color\":\"#371ea3\",\"dash\":\"dot\",\"width\":1.5},\"type\":\"line\",\"x0\":0.4796092382531768,\"x1\":0.4796092382531768,\"xref\":\"x\",\"y0\":-1,\"y1\":8,\"yref\":\"y\"}],\"title\":{\"text\":\"Variable Importance\",\"x\":0.15},\"font\":{\"color\":\"#371ea3\"},\"margin\":{\"t\":78,\"b\":71,\"r\":30},\"height\":343.0},                        {\"displaylogo\": false, \"staticPlot\": false, \"toImageButtonOptions\": {\"height\": null, \"width\": null}, \"modeBarButtonsToRemove\": [\"sendDataToCloud\", \"lasso2d\", \"autoScale2d\", \"select2d\", \"zoom2d\", \"pan2d\", \"zoomIn2d\", \"zoomOut2d\", \"resetScale2d\", \"toggleSpikelines\", \"hoverCompareCartesian\", \"hoverClosestCartesian\"], \"responsive\": true}                    ).then(function(){\n",
              "                            \n",
              "var gd = document.getElementById('c7f8a23c-3ce7-404b-a666-7acc2311caf9');\n",
              "var x = new MutationObserver(function (mutations, observer) {{\n",
              "        var display = window.getComputedStyle(gd).display;\n",
              "        if (!display || display === 'none') {{\n",
              "            console.log([gd, 'removed!']);\n",
              "            Plotly.purge(gd);\n",
              "            observer.disconnect();\n",
              "        }}\n",
              "}});\n",
              "\n",
              "// Listen for the removal of the full notebook cells\n",
              "var notebookContainer = gd.closest('#notebook-container');\n",
              "if (notebookContainer) {{\n",
              "    x.observe(notebookContainer, {childList: true});\n",
              "}}\n",
              "\n",
              "// Listen for the clearing of the current output cell\n",
              "var outputEl = gd.closest('.output');\n",
              "if (outputEl) {{\n",
              "    x.observe(outputEl, {childList: true});\n",
              "}}\n",
              "\n",
              "                        })                };                            </script>        </div>\n",
              "</body>\n",
              "</html>"
            ]
          },
          "metadata": {}
        }
      ],
      "source": [
        "exp_xg.plot()"
      ]
    },
    {
      "cell_type": "markdown",
      "metadata": {
        "id": "TiDL0F-y6Wvn"
      },
      "source": [
        "Just like that one observation, *lstat* and *rm* are most important feature in the whole dataset.  \n",
        "\n",
        "# Conclution  \n",
        "\n",
        "SHAP is a sufficient method to observe variable importance on each observation. At the same time, SHAP also can be helpful to get overview of the whole model. However, SHAP cannot explain the relation ship between explanatory variable and responce variable, which can be explain with <a href = \"https://qiita.com/shuseiyokoi/items/f6320d8612de42119d6e\">ICE</a>.    "
      ]
    }
  ],
  "metadata": {
    "kernelspec": {
      "display_name": "Python 3",
      "name": "python3"
    },
    "language_info": {
      "codemirror_mode": {
        "name": "ipython",
        "version": 3
      },
      "file_extension": ".py",
      "mimetype": "text/x-python",
      "name": "python",
      "nbconvert_exporter": "python",
      "pygments_lexer": "ipython3",
      "version": "3.11.7"
    },
    "colab": {
      "provenance": [],
      "include_colab_link": true
    }
  },
  "nbformat": 4,
  "nbformat_minor": 0
}