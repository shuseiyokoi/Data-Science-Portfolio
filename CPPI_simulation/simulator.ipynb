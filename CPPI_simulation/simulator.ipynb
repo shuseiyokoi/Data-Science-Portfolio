{
 "cells": [
  {
   "cell_type": "code",
   "execution_count": 32,
   "metadata": {},
   "outputs": [],
   "source": [
    "# !pip install numpy matplotlib ipywidgets requests datetime pandas matplotlib\n",
    "\n",
    "import numpy as np\n",
    "import matplotlib.pyplot as plt\n",
    "import ipywidgets as widgets\n",
    "import requests\n",
    "import datetime\n",
    "import calendar\n",
    "import pandas as pd\n",
    "from pandas import json_normalize\n",
    "import matplotlib.dates as mdates\n",
    "import time"
   ]
  },
  {
   "cell_type": "code",
   "execution_count": 33,
   "id": "91204012-5bec-4f90-8103-11dbff3c612b",
   "metadata": {},
   "outputs": [],
   "source": [
    "# Change symbol \n",
    "symbol = 'AAPL'\n",
    "# Dates should be in UNIX form\n",
    "start_date = 0\n",
    "today_utc = datetime.datetime.utcnow().date()\n",
    "# Create a datetime object for midnight of today's date in UTC\n",
    "midnight_utc = datetime.datetime.combine(today_utc, datetime.time(0, 0))\n",
    "# Convert to a time tuple in UTC\n",
    "end_date = calendar.timegm(midnight_utc.utctimetuple())\n",
    "\n",
    "interval = '1d'\n",
    "\n",
    "url = f'https://query2.finance.yahoo.com/v8/finance/chart/{symbol}?period1={start_date}&period2={end_date}&interval={interval}'\n",
    "\n",
    "\n",
    "# Mimic Header\n",
    "headers = {\"User-Agent\": \"Mozilla/5.0 (Windows NT 10.0; Win64; x64) AppleWebKit/537.36 (KHTML, like Gecko) Chrome/91.0.4472.124 Safari/537.36\"} \n",
    "esp_json = requests.get(url, headers=headers)"
   ]
  },
  {
   "cell_type": "code",
   "execution_count": 34,
   "id": "92d3f0ed-3c92-4b4a-9376-0f57815d3524",
   "metadata": {},
   "outputs": [],
   "source": [
    "def cppi_simulation_plot (initial_wealth = 100000, floor = 80000, multiplier = 3, start_date = 0 ,risk_free_rate = 0.02, balance_in = 30):\n",
    "\n",
    "    dictr = esp_json.json()\n",
    "    recs = dictr['chart']['result'][0]['indicators']['adjclose'][0]['adjclose']\n",
    "    timestamp = dictr['chart']['result'][0]['timestamp'][start_date:]\n",
    "    timestamp.pop(0)\n",
    "    timestamp = [datetime.datetime.fromtimestamp(ts).strftime('%Y-%m-%d') for ts in timestamp]\n",
    "    timestamp = pd.to_datetime(timestamp)\n",
    "    recs = pd.DataFrame(recs)\n",
    "    recs = recs.pct_change().dropna().to_numpy()[start_date:]\n",
    "    daily_risk_return = recs\n",
    "    num_periods = len(daily_risk_return)\n",
    "    \n",
    "    # Create vectors of portfolio, safe asset, and risky asset values and give initial points\n",
    "    portfolio_value = np.zeros(num_periods)\n",
    "    portfolio_value[0] = initial_wealth\n",
    "    \n",
    "    safe_asset_value = np.zeros(num_periods)\n",
    "    safe_asset_value[0] = initial_wealth - (initial_wealth - floor) * multiplier \n",
    "    \n",
    "    risky_asset_value = np.zeros(num_periods)\n",
    "    risky_asset_value[0] = (initial_wealth - floor) * multiplier \n",
    "        \n",
    "        \n",
    "    for t in range(0, num_periods):\n",
    "        \n",
    "        # Allocate to risky asset based on the cushion and multiplier\n",
    "        risky_allocation = risky_asset_value[t-1]\n",
    "        safe_allocation = safe_asset_value[t-1]\n",
    "        \n",
    "        # Calculate returns\n",
    "        risky_asset_return = risky_allocation * (1 + daily_risk_return[t])\n",
    "        safe_asset_return = safe_allocation * (1 + risk_free_rate / num_periods)\n",
    "    \n",
    "        # Update portfolio value\n",
    "        portfolio_value[t] = risky_asset_return + safe_asset_return\n",
    "        risky_asset_value[t] = risky_asset_return\n",
    "        safe_asset_value[t] = safe_asset_return\n",
    "    \n",
    "        # Run below code by given frequency days \n",
    "        if t % balance_in == 0:\n",
    "            \n",
    "            # Calculate current cushion\n",
    "            cushion = max(portfolio_value[t-1] - floor, 0)\n",
    "            \n",
    "            # Allocate to risky asset based on the cushion and multiplier\n",
    "            risky_allocation = multiplier * cushion\n",
    "            safe_allocation = portfolio_value[t-1] - risky_allocation\n",
    "            \n",
    "            # Calculate returns\n",
    "            risky_asset_return = risky_allocation * (1 + daily_risk_return[t])\n",
    "            safe_asset_return = safe_allocation * (1 + risk_free_rate / num_periods)\n",
    "    \n",
    "            # Update portfolio value\n",
    "            portfolio_value[t] = risky_asset_return + safe_asset_return\n",
    "            risky_asset_value[t] = risky_asset_return\n",
    "            safe_asset_value[t] = safe_asset_return\n",
    "    \n",
    "            # Adjust allocations if the floor is breached\n",
    "            if portfolio_value[t] < floor:\n",
    "                portfolio_value[t] = floor\n",
    "                risky_asset_value[t] = 0\n",
    "                safe_asset_value[t] = floor\n",
    "\n",
    "    portfolio_value = pd.DataFrame(portfolio_value, index = timestamp)\n",
    "    risky_asset_value = pd.DataFrame(risky_asset_value, index = timestamp)\n",
    "    safe_asset_value = pd.DataFrame(safe_asset_value, index = timestamp)\n",
    "        \n",
    "    # Plot the results\n",
    "    plt.figure(figsize=(10, 6))\n",
    "    plt.gca().xaxis.set_major_locator(mdates.YearLocator())\n",
    "    plt.gca().xaxis.set_major_formatter(mdates.DateFormatter('%Y'))\n",
    "    plt.plot(portfolio_value, label='Total Portfolio Value')\n",
    "    plt.plot(risky_asset_value, label='Risky Asset Value')\n",
    "    plt.plot(safe_asset_value, label='Safe Asset Value')\n",
    "    plt.axhline(y=floor, color='r', linestyle='--', label='Floor')\n",
    "    plt.title('CPPI Strategy Simulation (Balance out in every ' + str(balance_in) +' days) for ' +symbol)\n",
    "    plt.xlabel('Days')\n",
    "    plt.ylabel('Portfolio Value')\n",
    "    plt.legend()\n",
    "    plt.show()"
   ]
  },
  {
   "cell_type": "code",
   "execution_count": 35,
   "id": "d13d577f",
   "metadata": {},
   "outputs": [
    {
     "data": {
      "application/vnd.jupyter.widget-view+json": {
       "model_id": "81e1a5908f1c4da48c23e0c6ed3b3997",
       "version_major": 2,
       "version_minor": 0
      },
      "text/plain": [
       "interactive(children=(IntSlider(value=100000, description='initial_wealth', max=300000, min=-100000), IntSlide…"
      ]
     },
     "metadata": {},
     "output_type": "display_data"
    }
   ],
   "source": [
    "cppi_simulation_plot_controls = widgets.interactive(cppi_simulation_plot,\n",
    "                                    initial_wealth = 100000,\n",
    "                                    floor= 80000 , \n",
    "                                    multiplier = (1, 5, .5),\n",
    "                                    start_date = (0, 10000, 365),\n",
    "                                    risk_free_rate = (0, .05, .01),\n",
    "                                    balance_in = (0, 252, 1)\n",
    ")\n",
    "\n",
    "display(cppi_simulation_plot_controls)"
   ]
  },
  {
   "cell_type": "code",
   "execution_count": null,
   "id": "c766e951",
   "metadata": {},
   "outputs": [],
   "source": []
  }
 ],
 "metadata": {
  "kernelspec": {
   "display_name": "Python 3 (ipykernel)",
   "language": "python",
   "name": "python3"
  },
  "language_info": {
   "codemirror_mode": {
    "name": "ipython",
    "version": 3
   },
   "file_extension": ".py",
   "mimetype": "text/x-python",
   "name": "python",
   "nbconvert_exporter": "python",
   "pygments_lexer": "ipython3",
   "version": "3.11.7"
  }
 },
 "nbformat": 4,
 "nbformat_minor": 5
}
